{
 "cells": [
  {
   "cell_type": "code",
   "execution_count": 46,
   "metadata": {
    "collapsed": true
   },
   "outputs": [],
   "source": [
    "import pandas as pd\n",
    "import numpy as np\n",
    "import torch\n",
    "from torch import nn\n",
    "import matplotlib.pyplot as plt\n",
    "import tsensor\n",
    "%matplotlib inline\n"
   ]
  },
  {
   "cell_type": "code",
   "execution_count": 56,
   "outputs": [],
   "source": [
    "names=\"统一编号\tX\tY\t地面高程\t井口高程\t地下水类型\t1990年1月\t1990年2月\t1990年3月\t1990年4月\t1990年5月\t1990年6月\t1990年7月\t1990年8月\t1990年9月\t1990年10月\t1990年11月\t1990年12月\t1991年1月\t1991年2月\t1991年3月\t1991年4月\t1991年5月\t1991年6月\t1991年7月\t1991年8月\t1991年9月\t1991年10月\t1991年11月\t1991年12月\t1992年1月\t1992年2月\t1992年3月\t1992年4月\t1992年5月\t1992年6月\t1992年7月\t1992年8月\t1992年9月\t1992年10月\t1992年11月\t1992年12月\t1993年1月\t1993年2月\t1993年3月\t1993年4月\t1993年5月\t1993年6月\t1993年7月\t1993年8月\t1993年9月\t1993年10月\t1993年11月\t1993年12月\t1994年1月\t1994年2月\t1994年3月\t1994年4月\t1994年5月\t1994年6月\t1994年7月\t1994年8月\t1994年9月\t1994年10月\t1994年11月\t1994年12月\t1995年1月\t1995年2月\t1995年3月\t1995年4月\t1995年5月\t1995年6月\t1995年7月\t1995年8月\t1995年9月\t1995年10月\t1995年11月\t1995年12月\t1996年1月\t1996年2月\t1996年3月\t1996年4月\t1996年5月\t1996年6月\t1996年7月\t1996年8月\t1996年9月\t1996年10月\t1996年11月\t1996年12月\t1997年1月\t1997年2月\t1997年3月\t1997年4月\t1997年5月\t1997年6月\t1997年7月\t1997年8月\t1997年9月\t1997年10月\t1997年11月\t1997年12月\t1998年1月\t1998年2月\t1998年3月\t1998年4月\t1998年5月\t1998年6月\t1998年7月\t1998年8月\t1998年9月\t1998年10月\t1998年11月\t1998年12月\t1999年1月\t1999年2月\t1999年3月\t1999年4月\t1999年5月\t1999年6月\t1999年7月\t1999年8月\t1999年9月\t1999年10月\t1999年11月\t1999年12月\t2000年1月\t2000年2月\t2000年3月\t2000年4月\t2000年5月\t2000年6月\t2000年7月\t2000年8月\t2000年9月\t2000年10月\t2000年11月\t2000年12月\t2001年1月\t2001年2月\t2001年3月\t2001年4月\t2001年5月\t2001年6月\t2001年7月\t2001年8月\t2001年9月\t2001年10月\t2001年11月\t2001年12月\t2002年1月\t2002年2月\t2002年3月\t2002年4月\t2002年5月\t2002年6月\t2002年7月\t2002年8月\t2002年9月\t2002年10月\t2002年11月\t2002年12月\t2003年1月\t2003年2月\t2003年3月\t2003年4月\t2003年5月\t2003年6月\t2003年7月\t2003年8月\t2003年9月\t2003年10月\t2003年11月\t2003年12月\t2004年1月\t2004年2月\t2004年3月\t2004年4月\t2004年5月\t2004年6月\t2004年7月\t2004年8月\t2004年9月\t2004年10月\t2004年11月\t2004年12月\t2005年1月\t2005年2月\t2005年3月\t2005年4月\t2005年5月\t2005年6月\t2005年7月\t2005年8月\t2005年9月\t2005年10月\t2005年11月\t2005年12月\t2006年1月\t2006年2月\t2006年3月\t2006年4月\t2006年5月\t2006年6月\t2006年7月\t2006年8月\t2006年9月\t2006年10月\t2006年11月\t2006年12月\t2007年1月\t2007年2月\t2007年3月\t2007年4月\t2007年5月\t2007年6月\t2007年7月\t2007年8月\t2007年9月\t2007年10月\t2007年11月\t2007年12月\t2008年1月\t2008年2月\t2008年3月\t2008年4月\t2008年5月\t2008年6月\t2008年7月\t2008年8月\t2008年9月\t2008年10月\t2008年11月\t2008年12月\t2009年1月\t2009年2月\t2009年3月\t2009年4月\t2009年5月\t2009年6月\t2009年7月\t2009年8月\t2009年9月\t2009年10月\t2009年11月\t2009年12月\t2010年1月\t2010年2月\t2010年3月\t2010年4月\t2010年5月\t2010年6月\t2010年7月\t2010年8月\t2010年9月\t2010年10月\t2010年11月\t2010年12月\t2011年1月\t2011年2月\t2011年3月\t2011年4月\t2011年5月\t2011年6月\t2011年7月\t2011年8月\t2011年9月\t2011年10月\t2011年11月\t2011年12月\t2012年1月\t2012年2月\t2012年3月\t2012年4月\t2012年5月\t2012年6月\t2012年7月\t2012年8月\t2012年9月\t2012年10月\t2012年11月\t2012年12月\t2013年1月\t2013年2月\t2013年3月\t2013年4月\t2013年5月\t2013年6月\t2013年7月\t2013年8月\t2013年9月\t2013年10月\t2013年11月\t2013年12月\t2014年1月\t2014年2月\t2014年3月\t2014年4月\t2014年5月\t2014年6月\t2014年7月\t2014年8月\t2014年9月\t2014年10月\t2014年11月\t2014年12月\t2015年1月\t2015年2月\t2015年3月\t2015年4月\t2015年5月\t2015年6月\t2015年7月\t2015年8月\t2015年9月\t2015年10月\t2015年11月\t2015年12月\t2016年1月\t2016年2月\t2016年3月\t2016年4月\t2016年5月\t2016年6月\t2016年7月\t2016年8月\t2016年9月\t2016年10月\t2016年11月\t2016年12月\t2017年1月\t2017年2月\t2017年3月\t2017年4月\t2017年5月\t2017年6月\t2017年7月\t2017年8月\t2017年9月\t2017年10月\t2017年11月\t2017年12月\t2018年1月\t2018年2月\t2018年3月\t2018年4月\t2018年5月\t2018年6月\t2018年7月\t2018年8月\t2018年9月\t2018年10月\t2018年11月\t2018年12月\"\n",
    "col_names=names.split()\n",
    "data=pd.read_excel('data.xlsx',names=col_names)"
   ],
   "metadata": {
    "collapsed": false,
    "pycharm": {
     "name": "#%%\n"
    }
   }
  },
  {
   "cell_type": "code",
   "execution_count": 57,
   "outputs": [],
   "source": [
    "data=data.iloc[:,6:]"
   ],
   "metadata": {
    "collapsed": false,
    "pycharm": {
     "name": "#%%\n"
    }
   }
  },
  {
   "cell_type": "code",
   "execution_count": 58,
   "outputs": [
    {
     "data": {
      "text/plain": "    1990年1月  1990年2月  1990年3月  1990年4月  1990年5月  1990年6月  1990年7月  1990年8月  \\\n0   1095.59  1095.80  1093.78  1094.25  1094.65  1095.02  1095.42  1096.31   \n1   1103.76  1098.42  1098.06  1097.60  1098.91  1099.04  1100.09  1100.21   \n5   1107.13  1106.48  1106.23  1107.39  1107.13  1109.04  1107.26  1107.72   \n7   1119.58  1119.40  1119.40  1119.61  1119.76  1119.99  1119.85  1119.96   \n9   1122.31  1121.99  1121.99  1122.29  1122.43  1122.78  1122.87  1122.76   \n10  1122.09  1121.90  1121.89  1122.02  1121.94  1122.08  1122.11  1121.94   \n11  1106.69  1106.60  1106.53  1106.50  1106.44  1106.42  1106.39  1106.35   \n12  1090.34  1090.89  1090.02  1090.03  1089.84  1089.64  1088.93  1089.38   \n13  1098.18  1098.04  1097.37  1098.56  1097.65  1098.05  1097.81  1097.83   \n15  1105.86  1105.65  1105.49  1105.32  1105.23  1105.76  1105.81  1105.72   \n16  1128.71  1128.48  1128.60  1128.91  1129.18  1129.25  1129.27  1129.23   \n18  1123.78  1123.66  1123.72  1123.86  1123.88  1123.88  1123.80  1123.77   \n20  1116.44  1116.28  1116.39  1116.55  1116.39  1116.71  1116.64  1116.54   \n22  1119.22  1118.80  1118.87  1118.08  1119.11  1119.56  1119.55  1119.26   \n24  1096.78  1096.94  1096.65  1096.66  1096.64  1096.46  1096.40  1096.32   \n25  1114.73  1114.65  1114.64  1114.76  1114.76  1114.72  1114.68  1114.60   \n26  1102.63  1102.53  1102.48  1102.49  1102.46  1102.55  1102.50  1102.56   \n\n    1990年9月  1990年10月  ...  2018年3月  2018年4月  2018年5月    2018年6月   2018年7月  \\\n0   1096.03   1095.23  ...  1102.19  1097.18  1094.63  1092.3500  1091.370   \n1   1100.07   1099.28  ...  1102.91  1102.83  1102.92  1102.7400  1102.710   \n5   1107.97   1107.89  ...  1112.29  1109.89  1109.29  1109.2800  1108.590   \n7   1119.94   1119.64  ...  1119.27  1119.05  1119.08  1119.1500  1119.050   \n9   1122.63   1122.35  ...  1121.07  1121.23  1121.37  1121.7700  1121.090   \n10  1121.78   1121.68  ...  1121.00  1121.10  1121.50  1121.3800  1121.000   \n11  1106.51   1106.54  ...  1102.05  1099.85  1098.63  1097.6500  1097.750   \n12  1091.03   1090.03  ...  1098.74  1096.24  1095.64  1094.9400  1094.640   \n13  1098.77   1098.65  ...  1099.63  1098.63  1097.83  1097.3300  1094.630   \n15  1105.86   1105.99  ...  1102.17  1101.53  1100.67  1099.8700  1100.020   \n16  1129.24   1127.90  ...  1128.51  1129.06  1129.26  1129.3600  1129.060   \n18  1123.86   1123.81  ...  1123.91  1123.98  1124.38  1124.4800  1124.210   \n20  1116.72   1116.61  ...  1115.77  1115.87  1115.87  1115.7700  1115.720   \n22  1119.23   1118.95  ...  1120.23  1119.72  1119.83  1119.7300  1119.600   \n24  1096.78   1096.77  ...  1093.74  1091.79  1090.94  1089.9400  1089.670   \n25  1114.56   1114.53  ...  1112.39  1112.13  1111.87  1112.0925  1112.315   \n26  1102.61   1101.57  ...  1092.97  1092.68  1092.07  1091.0600  1090.820   \n\n      2018年8月  2018年9月  2018年10月  2018年11月  2018年12月  \n0   1091.5900  1091.76   1096.96   1098.15   1098.15  \n1   1103.0200  1103.38   1103.57   1103.45   1103.45  \n5   1103.3900  1106.56   1101.74   1102.69   1102.69  \n7   1119.4300  1119.95   1119.96   1119.95   1119.95  \n9   1121.4200  1121.62   1121.24   1121.30   1121.30  \n10  1120.8700  1121.10   1121.27   1121.30   1121.30  \n11  1097.4800  1098.45   1098.65   1098.86   1098.86  \n12  1094.5700  1096.54   1096.42   1097.04   1097.04  \n13  1094.7800  1096.26   1096.33   1096.23   1096.23  \n15  1100.0900  1100.83   1101.36   1101.47   1101.47  \n16  1128.9500  1128.79   1128.63   1128.53   1128.53  \n18  1124.1100  1124.00   1123.88   1124.49   1124.49  \n20  1115.6900  1116.01   1116.01   1115.76   1115.76  \n22  1119.7300  1120.65   1119.70   1119.33   1119.33  \n24  1089.8300  1091.87   1090.93   1091.34   1091.34  \n25  1112.5375  1112.76   1112.68   1112.59   1112.59  \n26  1090.9700  1091.27   1091.14   1091.45   1091.45  \n\n[17 rows x 348 columns]",
      "text/html": "<div>\n<style scoped>\n    .dataframe tbody tr th:only-of-type {\n        vertical-align: middle;\n    }\n\n    .dataframe tbody tr th {\n        vertical-align: top;\n    }\n\n    .dataframe thead th {\n        text-align: right;\n    }\n</style>\n<table border=\"1\" class=\"dataframe\">\n  <thead>\n    <tr style=\"text-align: right;\">\n      <th></th>\n      <th>1990年1月</th>\n      <th>1990年2月</th>\n      <th>1990年3月</th>\n      <th>1990年4月</th>\n      <th>1990年5月</th>\n      <th>1990年6月</th>\n      <th>1990年7月</th>\n      <th>1990年8月</th>\n      <th>1990年9月</th>\n      <th>1990年10月</th>\n      <th>...</th>\n      <th>2018年3月</th>\n      <th>2018年4月</th>\n      <th>2018年5月</th>\n      <th>2018年6月</th>\n      <th>2018年7月</th>\n      <th>2018年8月</th>\n      <th>2018年9月</th>\n      <th>2018年10月</th>\n      <th>2018年11月</th>\n      <th>2018年12月</th>\n    </tr>\n  </thead>\n  <tbody>\n    <tr>\n      <th>0</th>\n      <td>1095.59</td>\n      <td>1095.80</td>\n      <td>1093.78</td>\n      <td>1094.25</td>\n      <td>1094.65</td>\n      <td>1095.02</td>\n      <td>1095.42</td>\n      <td>1096.31</td>\n      <td>1096.03</td>\n      <td>1095.23</td>\n      <td>...</td>\n      <td>1102.19</td>\n      <td>1097.18</td>\n      <td>1094.63</td>\n      <td>1092.3500</td>\n      <td>1091.370</td>\n      <td>1091.5900</td>\n      <td>1091.76</td>\n      <td>1096.96</td>\n      <td>1098.15</td>\n      <td>1098.15</td>\n    </tr>\n    <tr>\n      <th>1</th>\n      <td>1103.76</td>\n      <td>1098.42</td>\n      <td>1098.06</td>\n      <td>1097.60</td>\n      <td>1098.91</td>\n      <td>1099.04</td>\n      <td>1100.09</td>\n      <td>1100.21</td>\n      <td>1100.07</td>\n      <td>1099.28</td>\n      <td>...</td>\n      <td>1102.91</td>\n      <td>1102.83</td>\n      <td>1102.92</td>\n      <td>1102.7400</td>\n      <td>1102.710</td>\n      <td>1103.0200</td>\n      <td>1103.38</td>\n      <td>1103.57</td>\n      <td>1103.45</td>\n      <td>1103.45</td>\n    </tr>\n    <tr>\n      <th>5</th>\n      <td>1107.13</td>\n      <td>1106.48</td>\n      <td>1106.23</td>\n      <td>1107.39</td>\n      <td>1107.13</td>\n      <td>1109.04</td>\n      <td>1107.26</td>\n      <td>1107.72</td>\n      <td>1107.97</td>\n      <td>1107.89</td>\n      <td>...</td>\n      <td>1112.29</td>\n      <td>1109.89</td>\n      <td>1109.29</td>\n      <td>1109.2800</td>\n      <td>1108.590</td>\n      <td>1103.3900</td>\n      <td>1106.56</td>\n      <td>1101.74</td>\n      <td>1102.69</td>\n      <td>1102.69</td>\n    </tr>\n    <tr>\n      <th>7</th>\n      <td>1119.58</td>\n      <td>1119.40</td>\n      <td>1119.40</td>\n      <td>1119.61</td>\n      <td>1119.76</td>\n      <td>1119.99</td>\n      <td>1119.85</td>\n      <td>1119.96</td>\n      <td>1119.94</td>\n      <td>1119.64</td>\n      <td>...</td>\n      <td>1119.27</td>\n      <td>1119.05</td>\n      <td>1119.08</td>\n      <td>1119.1500</td>\n      <td>1119.050</td>\n      <td>1119.4300</td>\n      <td>1119.95</td>\n      <td>1119.96</td>\n      <td>1119.95</td>\n      <td>1119.95</td>\n    </tr>\n    <tr>\n      <th>9</th>\n      <td>1122.31</td>\n      <td>1121.99</td>\n      <td>1121.99</td>\n      <td>1122.29</td>\n      <td>1122.43</td>\n      <td>1122.78</td>\n      <td>1122.87</td>\n      <td>1122.76</td>\n      <td>1122.63</td>\n      <td>1122.35</td>\n      <td>...</td>\n      <td>1121.07</td>\n      <td>1121.23</td>\n      <td>1121.37</td>\n      <td>1121.7700</td>\n      <td>1121.090</td>\n      <td>1121.4200</td>\n      <td>1121.62</td>\n      <td>1121.24</td>\n      <td>1121.30</td>\n      <td>1121.30</td>\n    </tr>\n    <tr>\n      <th>10</th>\n      <td>1122.09</td>\n      <td>1121.90</td>\n      <td>1121.89</td>\n      <td>1122.02</td>\n      <td>1121.94</td>\n      <td>1122.08</td>\n      <td>1122.11</td>\n      <td>1121.94</td>\n      <td>1121.78</td>\n      <td>1121.68</td>\n      <td>...</td>\n      <td>1121.00</td>\n      <td>1121.10</td>\n      <td>1121.50</td>\n      <td>1121.3800</td>\n      <td>1121.000</td>\n      <td>1120.8700</td>\n      <td>1121.10</td>\n      <td>1121.27</td>\n      <td>1121.30</td>\n      <td>1121.30</td>\n    </tr>\n    <tr>\n      <th>11</th>\n      <td>1106.69</td>\n      <td>1106.60</td>\n      <td>1106.53</td>\n      <td>1106.50</td>\n      <td>1106.44</td>\n      <td>1106.42</td>\n      <td>1106.39</td>\n      <td>1106.35</td>\n      <td>1106.51</td>\n      <td>1106.54</td>\n      <td>...</td>\n      <td>1102.05</td>\n      <td>1099.85</td>\n      <td>1098.63</td>\n      <td>1097.6500</td>\n      <td>1097.750</td>\n      <td>1097.4800</td>\n      <td>1098.45</td>\n      <td>1098.65</td>\n      <td>1098.86</td>\n      <td>1098.86</td>\n    </tr>\n    <tr>\n      <th>12</th>\n      <td>1090.34</td>\n      <td>1090.89</td>\n      <td>1090.02</td>\n      <td>1090.03</td>\n      <td>1089.84</td>\n      <td>1089.64</td>\n      <td>1088.93</td>\n      <td>1089.38</td>\n      <td>1091.03</td>\n      <td>1090.03</td>\n      <td>...</td>\n      <td>1098.74</td>\n      <td>1096.24</td>\n      <td>1095.64</td>\n      <td>1094.9400</td>\n      <td>1094.640</td>\n      <td>1094.5700</td>\n      <td>1096.54</td>\n      <td>1096.42</td>\n      <td>1097.04</td>\n      <td>1097.04</td>\n    </tr>\n    <tr>\n      <th>13</th>\n      <td>1098.18</td>\n      <td>1098.04</td>\n      <td>1097.37</td>\n      <td>1098.56</td>\n      <td>1097.65</td>\n      <td>1098.05</td>\n      <td>1097.81</td>\n      <td>1097.83</td>\n      <td>1098.77</td>\n      <td>1098.65</td>\n      <td>...</td>\n      <td>1099.63</td>\n      <td>1098.63</td>\n      <td>1097.83</td>\n      <td>1097.3300</td>\n      <td>1094.630</td>\n      <td>1094.7800</td>\n      <td>1096.26</td>\n      <td>1096.33</td>\n      <td>1096.23</td>\n      <td>1096.23</td>\n    </tr>\n    <tr>\n      <th>15</th>\n      <td>1105.86</td>\n      <td>1105.65</td>\n      <td>1105.49</td>\n      <td>1105.32</td>\n      <td>1105.23</td>\n      <td>1105.76</td>\n      <td>1105.81</td>\n      <td>1105.72</td>\n      <td>1105.86</td>\n      <td>1105.99</td>\n      <td>...</td>\n      <td>1102.17</td>\n      <td>1101.53</td>\n      <td>1100.67</td>\n      <td>1099.8700</td>\n      <td>1100.020</td>\n      <td>1100.0900</td>\n      <td>1100.83</td>\n      <td>1101.36</td>\n      <td>1101.47</td>\n      <td>1101.47</td>\n    </tr>\n    <tr>\n      <th>16</th>\n      <td>1128.71</td>\n      <td>1128.48</td>\n      <td>1128.60</td>\n      <td>1128.91</td>\n      <td>1129.18</td>\n      <td>1129.25</td>\n      <td>1129.27</td>\n      <td>1129.23</td>\n      <td>1129.24</td>\n      <td>1127.90</td>\n      <td>...</td>\n      <td>1128.51</td>\n      <td>1129.06</td>\n      <td>1129.26</td>\n      <td>1129.3600</td>\n      <td>1129.060</td>\n      <td>1128.9500</td>\n      <td>1128.79</td>\n      <td>1128.63</td>\n      <td>1128.53</td>\n      <td>1128.53</td>\n    </tr>\n    <tr>\n      <th>18</th>\n      <td>1123.78</td>\n      <td>1123.66</td>\n      <td>1123.72</td>\n      <td>1123.86</td>\n      <td>1123.88</td>\n      <td>1123.88</td>\n      <td>1123.80</td>\n      <td>1123.77</td>\n      <td>1123.86</td>\n      <td>1123.81</td>\n      <td>...</td>\n      <td>1123.91</td>\n      <td>1123.98</td>\n      <td>1124.38</td>\n      <td>1124.4800</td>\n      <td>1124.210</td>\n      <td>1124.1100</td>\n      <td>1124.00</td>\n      <td>1123.88</td>\n      <td>1124.49</td>\n      <td>1124.49</td>\n    </tr>\n    <tr>\n      <th>20</th>\n      <td>1116.44</td>\n      <td>1116.28</td>\n      <td>1116.39</td>\n      <td>1116.55</td>\n      <td>1116.39</td>\n      <td>1116.71</td>\n      <td>1116.64</td>\n      <td>1116.54</td>\n      <td>1116.72</td>\n      <td>1116.61</td>\n      <td>...</td>\n      <td>1115.77</td>\n      <td>1115.87</td>\n      <td>1115.87</td>\n      <td>1115.7700</td>\n      <td>1115.720</td>\n      <td>1115.6900</td>\n      <td>1116.01</td>\n      <td>1116.01</td>\n      <td>1115.76</td>\n      <td>1115.76</td>\n    </tr>\n    <tr>\n      <th>22</th>\n      <td>1119.22</td>\n      <td>1118.80</td>\n      <td>1118.87</td>\n      <td>1118.08</td>\n      <td>1119.11</td>\n      <td>1119.56</td>\n      <td>1119.55</td>\n      <td>1119.26</td>\n      <td>1119.23</td>\n      <td>1118.95</td>\n      <td>...</td>\n      <td>1120.23</td>\n      <td>1119.72</td>\n      <td>1119.83</td>\n      <td>1119.7300</td>\n      <td>1119.600</td>\n      <td>1119.7300</td>\n      <td>1120.65</td>\n      <td>1119.70</td>\n      <td>1119.33</td>\n      <td>1119.33</td>\n    </tr>\n    <tr>\n      <th>24</th>\n      <td>1096.78</td>\n      <td>1096.94</td>\n      <td>1096.65</td>\n      <td>1096.66</td>\n      <td>1096.64</td>\n      <td>1096.46</td>\n      <td>1096.40</td>\n      <td>1096.32</td>\n      <td>1096.78</td>\n      <td>1096.77</td>\n      <td>...</td>\n      <td>1093.74</td>\n      <td>1091.79</td>\n      <td>1090.94</td>\n      <td>1089.9400</td>\n      <td>1089.670</td>\n      <td>1089.8300</td>\n      <td>1091.87</td>\n      <td>1090.93</td>\n      <td>1091.34</td>\n      <td>1091.34</td>\n    </tr>\n    <tr>\n      <th>25</th>\n      <td>1114.73</td>\n      <td>1114.65</td>\n      <td>1114.64</td>\n      <td>1114.76</td>\n      <td>1114.76</td>\n      <td>1114.72</td>\n      <td>1114.68</td>\n      <td>1114.60</td>\n      <td>1114.56</td>\n      <td>1114.53</td>\n      <td>...</td>\n      <td>1112.39</td>\n      <td>1112.13</td>\n      <td>1111.87</td>\n      <td>1112.0925</td>\n      <td>1112.315</td>\n      <td>1112.5375</td>\n      <td>1112.76</td>\n      <td>1112.68</td>\n      <td>1112.59</td>\n      <td>1112.59</td>\n    </tr>\n    <tr>\n      <th>26</th>\n      <td>1102.63</td>\n      <td>1102.53</td>\n      <td>1102.48</td>\n      <td>1102.49</td>\n      <td>1102.46</td>\n      <td>1102.55</td>\n      <td>1102.50</td>\n      <td>1102.56</td>\n      <td>1102.61</td>\n      <td>1101.57</td>\n      <td>...</td>\n      <td>1092.97</td>\n      <td>1092.68</td>\n      <td>1092.07</td>\n      <td>1091.0600</td>\n      <td>1090.820</td>\n      <td>1090.9700</td>\n      <td>1091.27</td>\n      <td>1091.14</td>\n      <td>1091.45</td>\n      <td>1091.45</td>\n    </tr>\n  </tbody>\n</table>\n<p>17 rows × 348 columns</p>\n</div>"
     },
     "execution_count": 58,
     "metadata": {},
     "output_type": "execute_result"
    }
   ],
   "source": [
    "data=data.dropna(thresh=12*28).interpolate(axis=1)\n",
    "data.fillna(method=\"ffill\",axis=1)"
   ],
   "metadata": {
    "collapsed": false,
    "pycharm": {
     "name": "#%%\n"
    }
   }
  },
  {
   "cell_type": "code",
   "execution_count": 4,
   "outputs": [],
   "source": [
    "# 只要每个月地下水位高度数据\n",
    "data=data.iloc[0:1,6:353]"
   ],
   "metadata": {
    "collapsed": false,
    "pycharm": {
     "name": "#%%\n"
    }
   }
  },
  {
   "cell_type": "code",
   "execution_count": 5,
   "outputs": [
    {
     "data": {
      "text/plain": "   1990年1月  1990年2月  1990年3月  1990年4月  1990年5月  1990年6月  1990年7月  1990年8月  \\\n0  1095.59   1095.8  1093.78  1094.25  1094.65  1095.02  1095.42  1096.31   \n\n   1990年9月  1990年10月  ...  2018年2月  2018年3月  2018年4月  2018年5月  2018年6月  \\\n0  1096.03   1095.23  ...  1094.39  1102.19  1097.18  1094.63  1092.35   \n\n   2018年7月  2018年8月  2018年9月  2018年10月  2018年11月  \n0  1091.37  1091.59  1091.76   1096.96   1098.15  \n\n[1 rows x 347 columns]",
      "text/html": "<div>\n<style scoped>\n    .dataframe tbody tr th:only-of-type {\n        vertical-align: middle;\n    }\n\n    .dataframe tbody tr th {\n        vertical-align: top;\n    }\n\n    .dataframe thead th {\n        text-align: right;\n    }\n</style>\n<table border=\"1\" class=\"dataframe\">\n  <thead>\n    <tr style=\"text-align: right;\">\n      <th></th>\n      <th>1990年1月</th>\n      <th>1990年2月</th>\n      <th>1990年3月</th>\n      <th>1990年4月</th>\n      <th>1990年5月</th>\n      <th>1990年6月</th>\n      <th>1990年7月</th>\n      <th>1990年8月</th>\n      <th>1990年9月</th>\n      <th>1990年10月</th>\n      <th>...</th>\n      <th>2018年2月</th>\n      <th>2018年3月</th>\n      <th>2018年4月</th>\n      <th>2018年5月</th>\n      <th>2018年6月</th>\n      <th>2018年7月</th>\n      <th>2018年8月</th>\n      <th>2018年9月</th>\n      <th>2018年10月</th>\n      <th>2018年11月</th>\n    </tr>\n  </thead>\n  <tbody>\n    <tr>\n      <th>0</th>\n      <td>1095.59</td>\n      <td>1095.8</td>\n      <td>1093.78</td>\n      <td>1094.25</td>\n      <td>1094.65</td>\n      <td>1095.02</td>\n      <td>1095.42</td>\n      <td>1096.31</td>\n      <td>1096.03</td>\n      <td>1095.23</td>\n      <td>...</td>\n      <td>1094.39</td>\n      <td>1102.19</td>\n      <td>1097.18</td>\n      <td>1094.63</td>\n      <td>1092.35</td>\n      <td>1091.37</td>\n      <td>1091.59</td>\n      <td>1091.76</td>\n      <td>1096.96</td>\n      <td>1098.15</td>\n    </tr>\n  </tbody>\n</table>\n<p>1 rows × 347 columns</p>\n</div>"
     },
     "execution_count": 5,
     "metadata": {},
     "output_type": "execute_result"
    }
   ],
   "source": [
    "data.head()"
   ],
   "metadata": {
    "collapsed": false,
    "pycharm": {
     "name": "#%%\n"
    }
   }
  },
  {
   "cell_type": "code",
   "execution_count": 6,
   "outputs": [],
   "source": [
    "# 行归一化\n",
    "data_norm=data.sub(data.min(axis=1),axis=0).divide((data.max(axis=1)-data.min(axis=1)),axis=0)"
   ],
   "metadata": {
    "collapsed": false,
    "pycharm": {
     "name": "#%%\n"
    }
   }
  },
  {
   "cell_type": "code",
   "execution_count": 7,
   "outputs": [],
   "source": [
    "m,n=data_norm.shape"
   ],
   "metadata": {
    "collapsed": false,
    "pycharm": {
     "name": "#%%\n"
    }
   }
  },
  {
   "cell_type": "code",
   "execution_count": 8,
   "outputs": [],
   "source": [
    "# 整理成有监督数据集\n",
    "data_x,data_y=[],[]\n",
    "for i in range(m):\n",
    "    for j in range(n):\n",
    "        if j+13>n:\n",
    "            break\n",
    "        temp=data_norm.iloc[i,j:j+13]\n",
    "        if temp.isna().sum()>0:\n",
    "            continue\n",
    "        data_x.append(temp[:-1].values)\n",
    "        data_y.append(temp[-1])\n"
   ],
   "metadata": {
    "collapsed": false,
    "pycharm": {
     "name": "#%%\n"
    }
   }
  },
  {
   "cell_type": "code",
   "execution_count": 9,
   "outputs": [
    {
     "name": "stdout",
     "output_type": "stream",
     "text": [
      "322\n"
     ]
    }
   ],
   "source": [
    "# 数据集包含9202个样本\n",
    "print(len(data_x))"
   ],
   "metadata": {
    "collapsed": false,
    "pycharm": {
     "name": "#%%\n"
    }
   }
  },
  {
   "cell_type": "code",
   "execution_count": 10,
   "outputs": [],
   "source": [
    "# 划分数据集（训练集0.7，测试集0.3）\n",
    "split_rate=0.7\n",
    "train_len=int(len(data_x)*split_rate)\n",
    "train_x,train_y=torch.tensor(data_x[:train_len],dtype=torch.float),\\\n",
    "                torch.tensor(data_y[:train_len],dtype=torch.float)\n",
    "test_x,test_y=torch.tensor(data_x[train_len:],dtype=torch.float),\\\n",
    "              torch.tensor(data_y[train_len:],dtype=torch.float)"
   ],
   "metadata": {
    "collapsed": false,
    "pycharm": {
     "name": "#%%\n"
    }
   }
  },
  {
   "cell_type": "code",
   "execution_count": 11,
   "outputs": [
    {
     "data": {
      "text/plain": "97"
     },
     "execution_count": 11,
     "metadata": {},
     "output_type": "execute_result"
    }
   ],
   "source": [
    "len(test_x)"
   ],
   "metadata": {
    "collapsed": false,
    "pycharm": {
     "name": "#%%\n"
    }
   }
  },
  {
   "cell_type": "code",
   "execution_count": 72,
   "outputs": [
    {
     "name": "stdout",
     "output_type": "stream",
     "text": [
      "torch.Size([225, 12, 1]) torch.Size([97, 12, 1])\n"
     ]
    }
   ],
   "source": [
    "train_x=train_x.reshape(train_x.shape[0],train_x.shape[1],-1)\n",
    "test_x=test_x.reshape(test_x.shape[0],test_x.shape[1],-1)\n",
    "print(train_x.shape,test_x.shape)"
   ],
   "metadata": {
    "collapsed": false,
    "pycharm": {
     "name": "#%%\n"
    }
   }
  },
  {
   "cell_type": "code",
   "execution_count": 167,
   "outputs": [],
   "source": [
    "# 定义网络模型\n",
    "class LSTM(nn.Module):\n",
    "    def __init__(self,input_size=1,hidden_size=16,num_layers=2,output_size=1):\n",
    "        super(LSTM, self).__init__()\n",
    "        self.lstm=nn.LSTM(input_size=input_size,hidden_size=hidden_size,num_layers=num_layers)\n",
    "        self.dropout=nn.Dropout(0.5)\n",
    "        self.fc=nn.Linear(hidden_size,output_size)\n",
    "    def forward(self,x):\n",
    "        with tsensor.clarify():\n",
    "            out,_=self.lstm(x)\n",
    "            s,b,h=out.shape\n",
    "            # print(out.shape)\n",
    "            out=out.view(s*b,-1)\n",
    "            out=self.dropout(out)\n",
    "            out=self.fc(out)\n",
    "        return out.view(s,b)\n"
   ],
   "metadata": {
    "collapsed": false,
    "pycharm": {
     "name": "#%%\n"
    }
   }
  },
  {
   "cell_type": "code",
   "execution_count": 192,
   "outputs": [],
   "source": [
    "# 超参数\n",
    "device = torch.device('cuda' if torch.cuda.is_available() else 'cpu')\n",
    "lr = 0.01\n",
    "batch_size = 1\n",
    "num_epochs = 100"
   ],
   "metadata": {
    "collapsed": false,
    "pycharm": {
     "name": "#%%\n"
    }
   }
  },
  {
   "cell_type": "code",
   "execution_count": 193,
   "outputs": [],
   "source": [
    "# 加载数据集\n",
    "train_dataset=torch.utils.data.TensorDataset(train_x,train_y)\n",
    "train_dataloader=torch.utils.data.DataLoader(train_dataset,batch_size=batch_size)\n",
    "test_dataset=torch.utils.data.TensorDataset(test_x,test_y)\n",
    "test_dataloader=torch.utils.data.DataLoader(test_dataset,batch_size=batch_size)"
   ],
   "metadata": {
    "collapsed": false,
    "pycharm": {
     "name": "#%%\n"
    }
   }
  },
  {
   "cell_type": "code",
   "execution_count": 194,
   "outputs": [
    {
     "name": "stdout",
     "output_type": "stream",
     "text": [
      "torch.Size([1, 12, 1]) torch.Size([1])\n"
     ]
    }
   ],
   "source": [
    "for X,y in train_dataloader:\n",
    "    print(X.shape,y.shape)\n",
    "    break"
   ],
   "metadata": {
    "collapsed": false,
    "pycharm": {
     "name": "#%%\n"
    }
   }
  },
  {
   "cell_type": "code",
   "execution_count": 195,
   "outputs": [],
   "source": [
    "# 创建网络\n",
    "net=LSTM().to(device)\n",
    "# 损失函数 L2 Loss\n",
    "criterion = nn.MSELoss()\n",
    "# 优化器\n",
    "optimizer = torch.optim.SGD(params=net.parameters(), lr=lr,momentum=0.9)"
   ],
   "metadata": {
    "collapsed": false,
    "pycharm": {
     "name": "#%%\n"
    }
   }
  },
  {
   "cell_type": "code",
   "execution_count": 196,
   "outputs": [
    {
     "name": "stdout",
     "output_type": "stream",
     "text": [
      "torch.Size([3])\n",
      "torch.Size([2, 3])\n"
     ]
    },
    {
     "name": "stderr",
     "output_type": "stream",
     "text": [
      "D:\\Python\\Python38\\lib\\site-packages\\torch\\nn\\modules\\loss.py:432: UserWarning: Using a target size (torch.Size([3])) that is different to the input size (torch.Size([2, 3])). This will likely lead to incorrect results due to broadcasting. Please ensure they have the same size.\n",
      "  return F.mse_loss(input, target, reduction=self.reduction)\n"
     ]
    },
    {
     "data": {
      "text/plain": "tensor(9.)"
     },
     "execution_count": 196,
     "metadata": {},
     "output_type": "execute_result"
    }
   ],
   "source": [
    "q=torch.tensor([1.,2.,3.])\n",
    "q_hat=torch.tensor([[4,5,6],[4.,5.,6.]])\n",
    "# q_hat=q_hat.unsqueeze(dim=2)\n",
    "print(q.shape)\n",
    "print(q_hat.shape)\n",
    "criterion(q_hat.squeeze(),q)"
   ],
   "metadata": {
    "collapsed": false,
    "pycharm": {
     "name": "#%%\n"
    }
   }
  },
  {
   "cell_type": "code",
   "execution_count": 197,
   "outputs": [],
   "source": [
    "# 测试评估\n",
    "def evaluate_test_loss(net,device):\n",
    "    loss_sum = 0\n",
    "    batch = 0\n",
    "    net.eval()\n",
    "    with torch.no_grad():\n",
    "        for X, y in test_dataloader:\n",
    "            X=X.reshape(X.shape[1],X.shape[0],-1)\n",
    "            X, y = X.to(device), y.to(device)\n",
    "            y_hat = net(X)\n",
    "            loss_sum += (y_hat-y).abs().sum()\n",
    "            batch += 1\n",
    "        test_loss = loss_sum / (batch * batch_size)\n",
    "    return test_loss"
   ],
   "metadata": {
    "collapsed": false,
    "pycharm": {
     "name": "#%%\n"
    }
   }
  },
  {
   "cell_type": "code",
   "execution_count": 198,
   "outputs": [],
   "source": [
    "# 训练\n",
    "def train(device):\n",
    "    print('training on', device)\n",
    "    for epoch in range(num_epochs + 1):\n",
    "        train_l_sum, batch_count = 0.0, 0\n",
    "        net.train()\n",
    "        for X, y in train_dataloader:\n",
    "            X=X.reshape(X.shape[1],X.shape[0],-1)\n",
    "            X, y = X.to(device), y.to(device)\n",
    "            # print(X.shape,y.shape)\n",
    "            # print('y', y)\n",
    "            y_hat = net(X)\n",
    "            # print('y_hat', y_hat.shape)\n",
    "            # print('y', y.shape)\n",
    "            l = criterion(y_hat.squeeze(), y)\n",
    "            optimizer.zero_grad()\n",
    "            l.backward()\n",
    "            optimizer.step()\n",
    "\n",
    "            train_l_sum += l.item()\n",
    "            batch_count += 1\n",
    "        if epoch % 5 == 0:\n",
    "            test_loss = 1\n",
    "            print('epoch %d,train_loss %.4f,test_loss %.4f' % (epoch, train_l_sum / batch_count,test_loss))"
   ],
   "metadata": {
    "collapsed": false,
    "pycharm": {
     "name": "#%%\n"
    }
   }
  },
  {
   "cell_type": "code",
   "execution_count": 199,
   "outputs": [
    {
     "name": "stdout",
     "output_type": "stream",
     "text": [
      "training on cuda\n",
      "epoch 0,train_loss 0.0079,test_loss 1.0000\n",
      "epoch 5,train_loss 0.0102,test_loss 1.0000\n",
      "epoch 10,train_loss 0.0102,test_loss 1.0000\n",
      "epoch 15,train_loss 0.0102,test_loss 1.0000\n",
      "epoch 20,train_loss 0.0103,test_loss 1.0000\n",
      "epoch 25,train_loss 0.0103,test_loss 1.0000\n",
      "epoch 30,train_loss 0.0103,test_loss 1.0000\n",
      "epoch 35,train_loss 0.0103,test_loss 1.0000\n",
      "epoch 40,train_loss 0.0103,test_loss 1.0000\n",
      "epoch 45,train_loss 0.0103,test_loss 1.0000\n",
      "epoch 50,train_loss 0.0103,test_loss 1.0000\n",
      "epoch 55,train_loss 0.0103,test_loss 1.0000\n",
      "epoch 60,train_loss 0.0103,test_loss 1.0000\n",
      "epoch 65,train_loss 0.0103,test_loss 1.0000\n",
      "epoch 70,train_loss 0.0103,test_loss 1.0000\n",
      "epoch 75,train_loss 0.0103,test_loss 1.0000\n",
      "epoch 80,train_loss 0.0103,test_loss 1.0000\n",
      "epoch 85,train_loss 0.0103,test_loss 1.0000\n",
      "epoch 90,train_loss 0.0103,test_loss 1.0000\n",
      "epoch 95,train_loss 0.0103,test_loss 1.0000\n",
      "epoch 100,train_loss 0.0103,test_loss 1.0000\n"
     ]
    },
    {
     "name": "stderr",
     "output_type": "stream",
     "text": [
      "D:\\Python\\Python38\\lib\\site-packages\\torch\\nn\\modules\\loss.py:432: UserWarning: Using a target size (torch.Size([1])) that is different to the input size (torch.Size([12])). This will likely lead to incorrect results due to broadcasting. Please ensure they have the same size.\n",
      "  return F.mse_loss(input, target, reduction=self.reduction)\n"
     ]
    }
   ],
   "source": [
    "train(device)"
   ],
   "metadata": {
    "collapsed": false,
    "pycharm": {
     "name": "#%%\n"
    }
   }
  },
  {
   "cell_type": "code",
   "execution_count": 187,
   "outputs": [
    {
     "name": "stdout",
     "output_type": "stream",
     "text": [
      "[0.3967093235831715, 0.415904936014619, 0.23126142595977697, 0.2742230347349164, 0.3107861060329135, 0.3446069469835432, 0.3811700182815404, 0.46252285191955395, 0.43692870201096423, 0.36380255941499073, 0.3263254113345447, 0.37568555758682626, 4.706883430480957, 5.197386741638184, 5.398294925689697, 6.9037065505981445, 7.666369438171387, 8.811790466308594, 8.954126358032227, 10.393819808959961, 11.84153938293457, 12.567767143249512, 14.288421630859375, 14.117076873779297, 15.896319389343262, 16.060626983642578, 14.63040542602539, 13.795592308044434, 15.104358673095703, 14.532527923583984, 13.179469108581543, 13.622109413146973, 14.273534774780273, 14.001789093017578, 14.995460510253906, 14.211600303649902, 14.689910888671875, 15.046283721923828, 13.446325302124023, 15.045236587524414, 14.818958282470703, 15.353248596191406, 12.7340087890625, 13.768640518188477, 15.13640022277832, 14.720361709594727, 12.438197135925293, 12.902565002441406, 13.829598426818848, 15.624162673950195]\n"
     ]
    }
   ],
   "source": [
    "predict_res=[]\n",
    "valid=data.iloc[0]\n",
    "valid_data=data.iloc[0,:12]\n",
    "# predict_res=valid_data.values.tolist()\n",
    "# 归一化\n",
    "norm_min=valid.min()\n",
    "norm_max=valid.max()\n",
    "valid_data=(valid_data-norm_min)/(norm_max-norm_min)\n",
    "predict_res=valid_data.values.tolist()\n",
    "valid_data_tensor=torch.tensor(valid_data.values,dtype=torch.float).to(device)\n",
    "for _ in range(50-12):\n",
    "    # print(valid_data_tensor)\n",
    "    predict=net(valid_data_tensor.unsqueeze(1).unsqueeze(2)).sum()\n",
    "    # 反归一化\n",
    "    # predict_value=(predict*(norm_max-norm_min)+norm_min).item()\n",
    "    predict_value=predict.item()\n",
    "    predict_res.append(predict_value)\n",
    "    valid_data_tensor=torch.cat((valid_data_tensor[1:],predict.squeeze().unsqueeze(dim=0)),dim=0)\n",
    "\n",
    "print(predict_res)"
   ],
   "metadata": {
    "collapsed": false,
    "pycharm": {
     "name": "#%%\n"
    }
   }
  },
  {
   "cell_type": "code",
   "execution_count": 188,
   "outputs": [
    {
     "data": {
      "text/plain": "[0.3967093235831715,\n 0.415904936014619,\n 0.23126142595977697,\n 0.2742230347349164,\n 0.3107861060329135,\n 0.3446069469835432,\n 0.3811700182815404,\n 0.46252285191955395,\n 0.43692870201096423,\n 0.36380255941499073,\n 0.3263254113345447,\n 0.37568555758682626,\n 4.706883430480957,\n 5.197386741638184,\n 5.398294925689697,\n 6.9037065505981445,\n 7.666369438171387,\n 8.811790466308594,\n 8.954126358032227,\n 10.393819808959961,\n 11.84153938293457,\n 12.567767143249512,\n 14.288421630859375,\n 14.117076873779297,\n 15.896319389343262,\n 16.060626983642578,\n 14.63040542602539,\n 13.795592308044434,\n 15.104358673095703,\n 14.532527923583984,\n 13.179469108581543,\n 13.622109413146973,\n 14.273534774780273,\n 14.001789093017578,\n 14.995460510253906,\n 14.211600303649902,\n 14.689910888671875,\n 15.046283721923828,\n 13.446325302124023,\n 15.045236587524414,\n 14.818958282470703,\n 15.353248596191406,\n 12.7340087890625,\n 13.768640518188477,\n 15.13640022277832,\n 14.720361709594727,\n 12.438197135925293,\n 12.902565002441406,\n 13.829598426818848,\n 15.624162673950195]"
     },
     "execution_count": 188,
     "metadata": {},
     "output_type": "execute_result"
    }
   ],
   "source": [
    "predict_res"
   ],
   "metadata": {
    "collapsed": false,
    "pycharm": {
     "name": "#%%\n"
    }
   }
  },
  {
   "cell_type": "code",
   "execution_count": 191,
   "outputs": [
    {
     "name": "stdout",
     "output_type": "stream",
     "text": [
      "[0.39670932 0.41590494 0.23126143 0.27422303 0.31078611 0.34460695\n",
      " 0.38117002 0.46252285 0.4369287  0.36380256 0.32632541 0.37568556\n",
      " 0.28153565 0.21480804 0.21206581 0.20292505 0.22303473 0.28610603\n",
      " 0.32541133 0.36106033 0.35740402 0.34095064 0.20109689 0.32358318\n",
      " 0.25959781 0.3464351  0.1809872  0.15813528 0.16087751 0.22120658\n",
      " 0.28610603 0.31444241 0.30621572 0.35648995 0.3583181  0.40036563\n",
      " 0.37202925 0.34552102 0.40767824 0.3308958  0.37294333 0.24588665\n",
      " 0.34095064 0.35100548 0.36837294 0.50274223 0.36288848 0.3820841\n",
      " 0.33180987 0.27605119 0.24314442 0.26508227 0.2714808  0.32723949\n",
      " 0.37477148 0.32632541 0.39488117 0.42321755 0.23400366 0.32358318\n",
      " 0.24588665 0.14533821 0.15813528 0.17184644 0.17550274 0.24497258\n",
      " 0.2714808  0.36197441 0.4250457  0.36837294 0.34095064 0.35374771\n",
      " 0.27696527 0.22303473 0.18738574 0.19469835 0.26965265 0.35557587\n",
      " 0.40585009 0.33546618 0.34552102 0.34826325 0.21755027 0.26325411\n",
      " 0.28702011 0.19561243 0.1809872  0.08500914 0.06489945 0.14533821\n",
      " 0.17367459 0.20292505 0.19926874 0.20840951 0.18007313 0.19835466\n",
      " 0.21572212 0.22486289 0.17276051 0.1179159  0.13528336 0.22120658\n",
      " 0.24680073 0.24497258 0.31078611 0.29250457 0.2202925  0.26234004\n",
      " 0.23491773 0.23583181 0.26051188 0.20749543 0.21389397 0.27330896\n",
      " 0.30255941 0.31992687 0.3071298  0.32723949 0.27513711 0.29341865\n",
      " 0.28427788 0.28702011 0.25776965 0.23034735 0.2440585  0.30895795\n",
      " 0.36014625 0.32175503 0.39031079 0.45338208 0.40402194 0.45338208\n",
      " 0.46435101 0.55667276 0.50365631 0.39031079 0.39396709 0.42413163\n",
      " 0.44241316 0.45063985 0.48080439 0.51919561 0.48994516 0.51919561\n",
      " 0.52925046 0.55301645 0.55027422 0.49634369 0.476234   0.51736746\n",
      " 0.56032907 0.55484461 0.55941499 0.7321755  0.64990859 0.61608775\n",
      " 0.59323583 0.59232176 0.62248629 0.60968921 0.59232176 0.5904936\n",
      " 0.60054845 0.59414991 0.7321755  0.78244973 0.68555759 0.63254113\n",
      " 0.62888483 0.70201097 0.66819013 0.64716636 0.71846435 0.68647166\n",
      " 0.67550274 0.69195612 0.73674589 0.78153565 0.8308958  0.82541133\n",
      " 0.8226691  0.71480804 0.76234004 0.68372943 0.68190128 0.64076782\n",
      " 0.57769653 0.60877514 0.68281536 0.76234004 0.76234004 0.70566728\n",
      "        nan 0.76142596 0.78519196 0.66270567 0.66636197 0.65173675\n",
      " 0.64808044 0.74314442 0.71389397 0.75776965 0.64076782 0.68738574\n",
      " 0.76599634 0.80164534 0.8583181  0.76508227 0.73765996 0.71572212\n",
      " 0.73857404 0.65722121 0.67184644 0.71023766 0.74223035 0.71023766\n",
      " 0.77422303 0.85100548 0.80164534 0.68464351 0.68647166 0.5749543\n",
      " 0.48720293 0.60146252 0.63071298 0.73034735 0.69104205 0.61882998\n",
      " 0.73674589 0.75045704 0.77605119 0.77422303 0.74040219 0.6928702\n",
      " 0.55758684 0.51462523 0.59140768 0.62157221 0.65082267 0.6535649\n",
      " 0.65813528 0.60877514 0.59140768 0.57769653 0.60146252 0.58409506\n",
      " 0.53290676 0.52285192 0.56855576 0.62431444 0.65630713 0.62797075\n",
      " 0.70383912 0.69469835 0.71023766 0.68829982 0.70932358 0.4095064\n",
      " 0.3308958  0.23857404 0.31992687 0.31352834 0.31352834 0.30347349\n",
      " 0.30804388 0.32815356 0.34369287 0.33180987 0.32449726 0.24862888\n",
      " 0.19744059 0.17641682 0.29341865 0.31078611 0.26599634 0.21389397\n",
      " 0.24040219 0.25137112 0.28062157 0.28427788 0.26051188 0.18281536\n",
      " 0.12340037 0.07678245 0.04204753 0.0786106  0.09872029 0.1261426\n",
      " 0.25502742 0.21115174 0.26965265 0.24223035 0.19835466 0.13528336\n",
      " 0.08043876 0.03382084 0.         0.01279707 0.03290676 0.02925046\n",
      " 0.08775137 0.2166362  0.17276051 0.20383912 0.20383912 0.16727605\n",
      " 0.0904936  0.06581353 0.0511883  0.08866545 0.15722121 0.18647166\n",
      " 0.2166362  0.2202925  0.26142596 0.26965265 0.26873857 0.26051188\n",
      " 0.20109689 0.14442413 0.1261426  0.14442413 0.23400366 0.20109689\n",
      " 0.2321755  0.26691042 0.28062157 0.27787934 0.27239488 0.21389397\n",
      " 0.16636197 0.12340037 0.13893967 0.14259598 0.17458867 0.1773309\n",
      " 0.2202925  0.28702011 1.         0.54204753 0.30895795 0.10054845\n",
      " 0.01096892 0.03107861 0.04661792 0.52193784 0.63071298]\n"
     ]
    },
    {
     "data": {
      "text/plain": "[<matplotlib.lines.Line2D at 0x2963d2ba850>]"
     },
     "execution_count": 191,
     "metadata": {},
     "output_type": "execute_result"
    },
    {
     "name": "stderr",
     "output_type": "stream",
     "text": [
      "D:\\Python\\Python38\\lib\\site-packages\\matplotlib\\backends\\backend_agg.py:214: RuntimeWarning: Glyph 24180 missing from current font.\n",
      "  font.set_text(s, 0.0, flags=flags)\n",
      "D:\\Python\\Python38\\lib\\site-packages\\matplotlib\\backends\\backend_agg.py:214: RuntimeWarning: Glyph 26376 missing from current font.\n",
      "  font.set_text(s, 0.0, flags=flags)\n",
      "D:\\Python\\Python38\\lib\\site-packages\\matplotlib\\backends\\backend_agg.py:183: RuntimeWarning: Glyph 24180 missing from current font.\n",
      "  font.set_text(s, 0, flags=flags)\n",
      "D:\\Python\\Python38\\lib\\site-packages\\matplotlib\\backends\\backend_agg.py:183: RuntimeWarning: Glyph 26376 missing from current font.\n",
      "  font.set_text(s, 0, flags=flags)\n"
     ]
    },
    {
     "data": {
      "text/plain": "<Figure size 432x288 with 1 Axes>",
      "image/png": "[encoded data removed]"
     },
     "metadata": {
      "needs_background": "light"
     },
     "output_type": "display_data"
    }
   ],
   "source": [
    "print(((valid-norm_min)/(norm_max-norm_min)).values)\n",
    "plt.plot(((valid-norm_min)/(norm_max-norm_min))[:50])\n",
    "plt.plot(predict_res)"
   ],
   "metadata": {
    "collapsed": false,
    "pycharm": {
     "name": "#%%\n"
    }
   }
  },
  {
   "cell_type": "code",
   "execution_count": null,
   "outputs": [],
   "source": [
    "\n"
   ],
   "metadata": {
    "collapsed": false,
    "pycharm": {
     "name": "#%%\n"
    }
   }
  }
 ],
 "metadata": {
  "kernelspec": {
   "name": "pycharm-f43a7358",
   "language": "python",
   "display_name": "PyCharm (JupyterProject)"
  },
  "language_info": {
   "codemirror_mode": {
    "name": "ipython",
    "version": 2
   },
   "file_extension": ".py",
   "mimetype": "text/x-python",
   "name": "python",
   "nbconvert_exporter": "python",
   "pygments_lexer": "ipython2",
   "version": "2.7.6"
  }
 },
 "nbformat": 4,
 "nbformat_minor": 0
}